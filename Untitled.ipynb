{
 "cells": [
  {
   "cell_type": "code",
   "execution_count": 1,
   "id": "3f6b403c",
   "metadata": {},
   "outputs": [],
   "source": [
    "from random import random,seed,randint\n",
    "def initialise(inp,hid,out):\n",
    "    net=[]\n",
    "    hidlay=[{'w':[random() for i in range(inp+1)]}for i in range(hid)]\n",
    "    net.append(hidlay)\n",
    "    outlay=[{'w':[random() for i in range(hid+1)]}for i in range(out)]\n",
    "    net.append(outlay)\n",
    "    return net\n",
    "def activate(w,i):\n",
    "    activation=w[-1]\n",
    "    for x in range(len(w)-1):\n",
    "        activation+=w[x]*i[x]\n",
    "        return activation\n",
    "from math import exp\n",
    "def sigmoid(a):\n",
    "    return 1/(1+exp(-a))\n"
   ]
  },
  {
   "cell_type": "code",
   "execution_count": null,
   "id": "f7737d1c",
   "metadata": {},
   "outputs": [],
   "source": []
  }
 ],
 "metadata": {
  "kernelspec": {
   "display_name": "Python 3 (ipykernel)",
   "language": "python",
   "name": "python3"
  },
  "language_info": {
   "codemirror_mode": {
    "name": "ipython",
    "version": 3
   },
   "file_extension": ".py",
   "mimetype": "text/x-python",
   "name": "python",
   "nbconvert_exporter": "python",
   "pygments_lexer": "ipython3",
   "version": "3.9.7"
  }
 },
 "nbformat": 4,
 "nbformat_minor": 5
}
